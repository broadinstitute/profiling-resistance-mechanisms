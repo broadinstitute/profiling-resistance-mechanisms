{
 "cells": [
  {
   "cell_type": "markdown",
   "metadata": {},
   "source": [
    "## Count Single Cells"
   ]
  },
  {
   "cell_type": "code",
   "execution_count": 1,
   "metadata": {},
   "outputs": [],
   "source": [
    "suppressPackageStartupMessages(library(ggplot2))\n",
    "suppressPackageStartupMessages(library(dplyr))"
   ]
  },
  {
   "cell_type": "code",
   "execution_count": 2,
   "metadata": {},
   "outputs": [],
   "source": [
    "cell_count_dir <- file.path(\"..\", \"0.generate-profiles\", \"cell_counts\")\n",
    "total_cell_count <- 0\n",
    "for (cell_count_file in list.files(cell_count_dir, full.names = TRUE)) {\n",
    "    cell_count_df <- readr::read_tsv(cell_count_file, col_types=readr::cols())\n",
    "    \n",
    "    if (\n",
    "        any(\n",
    "            grepl(cell_count_file,\n",
    "                  c(\"2019_02_15_Batch1_20X\", \"2019_02_15_Batch1_40X\", \"2019_03_20_Batch2\"),\n",
    "                  fixed=TRUE)\n",
    "        )\n",
    "    ) {\n",
    "        use_cols <- c(\"Metadata_CellLine\", \"Metadata_Dosage\", \"Metadata_Plate\")\n",
    "    } else if (\n",
    "        any(\n",
    "            grepl(cell_count_file,\n",
    "                  c(\"2019_06_25_Batch3\"),\n",
    "                  fixed=TRUE)\n",
    "        )\n",
    "    ) {\n",
    "        use_cols <- c(\"Metadata_clone_number\", \"Metadata_Plate\")\n",
    "    } else {\n",
    "        use_cols <- c(\"Metadata_clone_number\", \"Metadata_treatment\", \"Metadata_Plate\")\n",
    "    }\n",
    "    \n",
    "    total_cell_count <- total_cell_count + sum(cell_count_df$cell_count)\n",
    "}"
   ]
  },
  {
   "cell_type": "code",
   "execution_count": 3,
   "metadata": {},
   "outputs": [
    {
     "data": {
      "text/html": [
       "<strong>total_cell_count:</strong> 25331572"
      ],
      "text/latex": [
       "\\textbf{total\\textbackslash{}\\_cell\\textbackslash{}\\_count:} 25331572"
      ],
      "text/markdown": [
       "**total_cell_count:** 25331572"
      ],
      "text/plain": [
       "total_cell_count \n",
       "        25331572 "
      ]
     },
     "metadata": {},
     "output_type": "display_data"
    }
   ],
   "source": [
    "cell_count_file <- file.path(\"results\", \"total_cell_count.txt\")\n",
    "names(total_cell_count) <- \"total_cell_count\"\n",
    "\n",
    "write.table(total_cell_count, sep=\",\", cell_count_file, col.names=FALSE)\n",
    "\n",
    "total_cell_count"
   ]
  }
 ],
 "metadata": {
  "kernelspec": {
   "display_name": "R",
   "language": "R",
   "name": "ir"
  },
  "language_info": {
   "codemirror_mode": "r",
   "file_extension": ".r",
   "mimetype": "text/x-r-source",
   "name": "R",
   "pygments_lexer": "r",
   "version": "3.5.1"
  }
 },
 "nbformat": 4,
 "nbformat_minor": 4
}
