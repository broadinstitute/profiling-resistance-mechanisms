{
 "cells": [
  {
   "cell_type": "markdown",
   "metadata": {},
   "source": [
    "## Write all Profiles to GCT for Heatmap Visualization\n",
    "\n",
    "**Gregory Way, 2020**\n",
    "\n",
    "I also build consensus signatures for all unique treatments and output associated files."
   ]
  },
  {
   "cell_type": "code",
   "execution_count": 1,
   "metadata": {},
   "outputs": [],
   "source": [
    "import os\n",
    "import pandas as pd\n",
    "\n",
    "from pycytominer import feature_select\n",
    "from pycytominer.cyto_utils import infer_cp_features, write_gct\n",
    "\n",
    "from scripts.processing_utils import load_data"
   ]
  },
  {
   "cell_type": "code",
   "execution_count": 2,
   "metadata": {},
   "outputs": [
    {
     "data": {
      "text/plain": [
       "['2021_03_03_Batch14',\n",
       " '2021_03_03_Batch13',\n",
       " '2021_03_03_Batch12',\n",
       " '2021_03_03_Batch15',\n",
       " '2020_08_24_Batch9',\n",
       " '2021_03_05_Batch17',\n",
       " '2021_03_05_Batch16',\n",
       " '2021_02_08_Batch11',\n",
       " '2021_08_03_Batch26',\n",
       " '2021_07_21_Batch22',\n",
       " '2021_07_21_Batch23',\n",
       " '2021_08_03_Batch27',\n",
       " '2019_03_20_Batch2',\n",
       " '2019_06_25_Batch3',\n",
       " '2020_09_08_Batch10',\n",
       " '2020_07_02_Batch8',\n",
       " '2019_11_11_Batch4',\n",
       " '2021_03_12_Batch18',\n",
       " '2021_06_25_Batch21',\n",
       " '2021_03_12_Batch19',\n",
       " '2021_06_25_Batch20',\n",
       " '2019_11_20_Batch6',\n",
       " '2019_02_15_Batch1_20X',\n",
       " '2019_11_19_Batch5',\n",
       " '2021_08_02_Batch24',\n",
       " '2019_11_22_Batch7',\n",
       " '2021_08_02_Batch25']"
      ]
     },
     "execution_count": 2,
     "metadata": {},
     "output_type": "execute_result"
    }
   ],
   "source": [
    "# Set constants\n",
    "feature_select_ops = [\n",
    "    \"variance_threshold\",\n",
    "    \"correlation_threshold\",\n",
    "    \"drop_na_columns\",\n",
    "    \"blocklist\",\n",
    "    \"drop_outliers\"\n",
    "]\n",
    "\n",
    "gct_dir = os.path.join(\"data\", \"gct_files\")\n",
    "profile_dir = os.path.join(\"..\", \"0.generate-profiles\", \"profiles\")\n",
    "cell_count_dir = os.path.join(\"..\", \"0.generate-profiles\", \"cell_counts\")\n",
    "output_dir = os.path.join(\"data\", \"merged\")\n",
    "\n",
    "suffix = \"normalized.csv.gz\"\n",
    "\n",
    "# Ignore 40X batch\n",
    "batches = [x for x in os.listdir(profile_dir) if x not in [\".DS_Store\", \"2019_02_15_Batch1_40X\"]]\n",
    "batches"
   ]
  },
  {
   "cell_type": "code",
   "execution_count": null,
   "metadata": {},
   "outputs": [],
   "source": [
    "profile_batches = {}\n",
    "for batch in batches:\n",
    "    # Build output information\n",
    "    output_gct_dir = os.path.join(gct_dir, batch)\n",
    "    os.makedirs(output_gct_dir, exist_ok=True)\n",
    "    output_gct_file = os.path.join(\n",
    "        output_gct_dir, \"{}_feature_select.gct\".format(batch)\n",
    "    )\n",
    "    \n",
    "    # Load the profile data and add cell counts\n",
    "    df = load_data(\n",
    "        batch=batch,\n",
    "        suffix=suffix,\n",
    "        profile_dir=profile_dir,\n",
    "        combine_dfs=True,\n",
    "        add_cell_count=True,\n",
    "        harmonize_cols=True,\n",
    "        cell_count_dir=cell_count_dir\n",
    "    )\n",
    "\n",
    "    # Save normalized and non-feature selected data\n",
    "    profile_batches[batch] = df\n",
    "    \n",
    "    # Apply feature selection\n",
    "    feature_select_df = feature_select(df, operation=feature_select_ops)\n",
    "        \n",
    "    # Write the dataframe as a gct file for input into Morpheus\n",
    "    write_gct(profiles=feature_select_df, output_file=output_gct_file)"
   ]
  },
  {
   "cell_type": "markdown",
   "metadata": {},
   "source": [
    "## Merge Profiles Together and Output"
   ]
  },
  {
   "cell_type": "code",
   "execution_count": null,
   "metadata": {},
   "outputs": [],
   "source": [
    "all_profiles_df = pd.concat(profile_batches.values(), sort=True).reset_index(drop=True)\n",
    "\n",
    "all_profiles_df = all_profiles_df.assign(Metadata_clone_type=\"resistant\")\n",
    "all_profiles_df.loc[all_profiles_df.Metadata_clone_number.str.contains(\"WT\"), \"Metadata_clone_type\"] = \"wildtype\"\n",
    "\n",
    "meta_features = infer_cp_features(all_profiles_df, metadata=True)\n",
    "cp_cols = infer_cp_features(all_profiles_df, metadata=False)\n",
    "\n",
    "all_profiles_df = all_profiles_df.reindex(meta_features + cp_cols, axis=\"columns\")\n",
    "\n",
    "print(all_profiles_df.shape)\n",
    "all_profiles_df.head()"
   ]
  },
  {
   "cell_type": "code",
   "execution_count": null,
   "metadata": {},
   "outputs": [],
   "source": [
    "all_profiles_df = feature_select(all_profiles_df, operation=feature_select_ops)\n",
    "\n",
    "all_profiles_df = all_profiles_df.drop([\"Metadata_plate_ID\", \"Metadata_plate_filename\"], axis=\"columns\")\n",
    "\n",
    "print(all_profiles_df.shape)\n",
    "all_profiles_df.head()"
   ]
  },
  {
   "cell_type": "code",
   "execution_count": null,
   "metadata": {},
   "outputs": [],
   "source": [
    "output_file = os.path.join(output_dir, \"all_merged_profiles.csv.gz\")\n",
    "all_profiles_df.to_csv(output_file, index=False, compression=\"gzip\")\n",
    "\n",
    "output_gct_file = os.path.join(gct_dir, \"all_merged_profiles.gct\")\n",
    "write_gct(profiles=all_profiles_df, output_file=output_gct_file)"
   ]
  },
  {
   "cell_type": "markdown",
   "metadata": {},
   "source": [
    "## Collapse replicates into consensus profiles"
   ]
  },
  {
   "cell_type": "code",
   "execution_count": null,
   "metadata": {},
   "outputs": [],
   "source": [
    "median_consensus_df = (\n",
    "    all_profiles_df.groupby([\"Metadata_clone_number\", \"Metadata_treatment\"])\n",
    "    .median()\n",
    "    .reset_index()\n",
    ")\n",
    "\n",
    "print(median_consensus_df.shape)\n",
    "median_consensus_df.head()"
   ]
  },
  {
   "cell_type": "code",
   "execution_count": null,
   "metadata": {},
   "outputs": [],
   "source": [
    "output_file = os.path.join(output_dir, \"consensus_profiles.csv.gz\")\n",
    "median_consensus_df.to_csv(output_file, index=False, compression=\"gzip\")\n",
    "\n",
    "output_gct_file = os.path.join(gct_dir, \"consensus_profiles.gct\")\n",
    "write_gct(profiles=median_consensus_df, output_file=output_gct_file)"
   ]
  },
  {
   "cell_type": "code",
   "execution_count": null,
   "metadata": {},
   "outputs": [],
   "source": []
  },
  {
   "cell_type": "code",
   "execution_count": null,
   "metadata": {},
   "outputs": [],
   "source": []
  }
 ],
 "metadata": {
  "kernelspec": {
   "display_name": "Python 3",
   "language": "python",
   "name": "python3"
  },
  "language_info": {
   "codemirror_mode": {
    "name": "ipython",
    "version": 3
   },
   "file_extension": ".py",
   "mimetype": "text/x-python",
   "name": "python",
   "nbconvert_exporter": "python",
   "pygments_lexer": "ipython3",
   "version": "3.7.1"
  }
 },
 "nbformat": 4,
 "nbformat_minor": 2
}
