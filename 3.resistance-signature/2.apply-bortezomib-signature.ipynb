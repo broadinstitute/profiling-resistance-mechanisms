{
 "cells": [
  {
   "cell_type": "markdown",
   "metadata": {},
   "source": [
    "## Apply the bortezomib signature\n",
    "\n",
    "We previously identified a set of morphology features (in `1.build-signature.ipynb`) that are most significantly different between resistant and sensitive clones.\n",
    "We used only the training set samples to identify this signature (the set of 5 WT and 5 resistant clones).\n",
    "\n",
    "Here, we apply this signature to the full analytical data set.\n",
    "\n",
    "### Singscore\n",
    "\n",
    "We use singscore to apply the signatures to the data.\n",
    "\n",
    "> Foroutan, M., Bhuva, D.D., Lyu, R. et al. Single sample scoring of molecular phenotypes. BMC Bioinformatics 19, 404 (2018). https://doi.org/10.1186/s12859-018-2435-4\n",
    "\n",
    "In singscore, we use the features that are significantly higher in resistant samples, and features that are significantly lower in resistant samples to generate an output score.\n",
    "\n",
    "A high score represents a sample with a morphology profile that is concordant with the signature.\n",
    "The per-sample score can be interpreted as the mean percentile rank of the target features.\n",
    "\n",
    "#### Random permutations\n",
    "\n",
    "We also calculate singscore with several random permutations.\n",
    "We randomly shuffle the feature rankings to derive a range in which a sample may be scored simply by chance."
   ]
  },
  {
   "cell_type": "code",
   "execution_count": 1,
   "metadata": {},
   "outputs": [
    {
     "ename": "ERROR",
     "evalue": "Error in library(singscore): there is no package called ‘singscore’\n",
     "output_type": "error",
     "traceback": [
      "Error in library(singscore): there is no package called ‘singscore’\nTraceback:\n",
      "1. suppressPackageStartupMessages(library(singscore))",
      "2. withCallingHandlers(expr, packageStartupMessage = function(c) invokeRestart(\"muffleMessage\"))",
      "3. library(singscore)",
      "4. stop(txt, domain = NA)"
     ]
    }
   ],
   "source": [
    "suppressPackageStartupMessages(library(dplyr))\n",
    "suppressPackageStartupMessages(library(singscore))\n",
    "\n",
    "source(file.path(\"utils\", \"singscore_utils.R\"))"
   ]
  },
  {
   "cell_type": "code",
   "execution_count": null,
   "metadata": {},
   "outputs": [],
   "source": [
    "seed <- 1234\n",
    "num_permutations <- 1000\n",
    "dataset <- \"bortezomib\"\n",
    "\n",
    "data_dir <- \"data\"\n",
    "input_results_dir <- file.path(\"results\", \"signatures\")\n",
    "output_dir <- file.path(\"results\", \"singscore\")\n",
    "\n",
    "data_file <- file.path(data_dir, paste0(dataset, \"_signature_analytical_set.tsv.gz\"))\n",
    "feat_file <- file.path(data_dir, \"dataset_features_selected.tsv\")\n",
    "signature_file <- file.path(input_results_dir, paste0(\"signature_summary_\", dataset, \"_signature.tsv.gz\"))\n",
    "tukey_file <- file.path(input_results_dir, paste0(\"tukey_results_\", dataset, \"_signature.tsv.gz\"))\n",
    "output_results_file <- file.path(output_dir, paste0(\"singscore_results\", dataset, \".tsv.gz\"))"
   ]
  },
  {
   "cell_type": "code",
   "execution_count": null,
   "metadata": {},
   "outputs": [],
   "source": [
    "set.seed(seed)"
   ]
  },
  {
   "cell_type": "code",
   "execution_count": null,
   "metadata": {},
   "outputs": [],
   "source": [
    "# Load feature selected features\n",
    "all_selected_features_df <- readr::read_tsv(feat_file, col_types = readr::cols())\n",
    "head(all_selected_features_df, 3)"
   ]
  },
  {
   "cell_type": "code",
   "execution_count": null,
   "metadata": {},
   "outputs": [],
   "source": [
    "# Load profiles\n",
    "bulk_col_types <- readr::cols(\n",
    "    .default = readr::col_double(),\n",
    "    Metadata_Plate = readr::col_character(),\n",
    "    Metadata_Well = readr::col_character(),\n",
    "    Metadata_cell_count = readr::col_integer(),\n",
    "    Metadata_batch = readr::col_character(),\n",
    "    Metadata_clone_number = readr::col_character(),\n",
    "    Metadata_plate_map_name = readr::col_character(),\n",
    "    Metadata_treatment = readr::col_character(),\n",
    "    Metadata_dataset = readr::col_character(),\n",
    "    Metadata_clone_type = readr::col_character(),\n",
    "    Metadata_clone_type_indicator = readr::col_character(),\n",
    "    Metadata_model_split = readr::col_character(),\n",
    "    Metadata_cell_density = readr::col_character(),\n",
    "    Metadata_treatment_time = readr::col_character(),\n",
    "    Metadata_unique_sample_name = readr::col_character(),\n",
    "    Metadata_time_to_adhere = readr::col_character()\n",
    ")\n",
    "\n",
    "data_df <- readr::read_tsv(data_file, col_types = bulk_col_types)\n",
    "\n",
    "# Apply feature selection performed in 0.compile-bulk-datasets\n",
    "selected_features <- all_selected_features_df %>%\n",
    "    dplyr::filter(dataset == !!dataset) %>%\n",
    "    dplyr::pull(features)\n",
    "\n",
    "data_df <- data_df %>%\n",
    "    dplyr::select(starts_with(\"Metadata\"), all_of(selected_features))\n",
    "\n",
    "print(dim(data_df))\n",
    "head(data_df, 4)"
   ]
  },
  {
   "cell_type": "code",
   "execution_count": null,
   "metadata": {},
   "outputs": [],
   "source": [
    "# Load signatures\n",
    "sig_col_types <- readr::cols(\n",
    "    features = readr::col_character(),\n",
    "    non_specific_exclude = readr::col_logical(),\n",
    "    final_signature = readr::col_logical(),\n",
    "    dataset = readr::col_character()\n",
    ")\n",
    "\n",
    "signature_df <- readr::read_tsv(signature_file, col_types = sig_col_types)\n",
    "\n",
    "print(dim(signature_df))\n",
    "head(signature_df, 4)"
   ]
  },
  {
   "cell_type": "code",
   "execution_count": null,
   "metadata": {},
   "outputs": [],
   "source": [
    "# Load Tukey results (to determine if feature is \"up\" or \"down\")\n",
    "tukey_cols <- readr::cols(\n",
    "    term = readr::col_character(),\n",
    "    comparison = readr::col_character(),\n",
    "    estimate = readr::col_double(),\n",
    "    conf.low = readr::col_double(),\n",
    "    conf.high = readr::col_double(),\n",
    "    adj.p.value = readr::col_double(),\n",
    "    feature = readr::col_character(),\n",
    "    neg_log_adj_p = readr::col_double(),\n",
    "    dataset = readr::col_character()\n",
    ")\n",
    "\n",
    "tukey_df <- readr::read_tsv(tukey_file, col_types = tukey_cols)\n",
    "\n",
    "print(dim(tukey_df))\n",
    "head(tukey_df, 4)"
   ]
  },
  {
   "cell_type": "code",
   "execution_count": null,
   "metadata": {},
   "outputs": [],
   "source": [
    "# Subset data to process dataset-specific signature\n",
    "signature_subset_df <- signature_df %>%\n",
    "    dplyr::filter(dataset == !!dataset, final_signature)\n",
    "\n",
    "tukey_subset_df <- tukey_df %>%\n",
    "    dplyr::filter(\n",
    "        dataset == !!dataset,\n",
    "        term == \"Metadata_clone_type_indicator\",\n",
    "        feature %in% signature_subset_df$features\n",
    "    ) %>%\n",
    "    dplyr::arrange(desc(estimate))\n",
    "\n",
    "# Ensure that the comparison is always resistant vs. senstive\n",
    "# and never the other way around!\n",
    "stopifnot(length(table(tukey_subset_df$comparison)) == 1)\n",
    "\n",
    "# Determine feature direction\n",
    "up_features <- tukey_subset_df %>% dplyr::filter(estimate > 0) %>% dplyr::pull(feature)\n",
    "down_features <- tukey_subset_df %>% dplyr::filter(estimate < 0) %>% dplyr::pull(feature)\n",
    "\n",
    "# Store signature for downstream analyses\n",
    "signature_features <- list(\"up\" = up_features, \"down\" = down_features)"
   ]
  },
  {
   "cell_type": "code",
   "execution_count": null,
   "metadata": {},
   "outputs": [],
   "source": [
    "signature_features"
   ]
  },
  {
   "cell_type": "code",
   "execution_count": null,
   "metadata": {},
   "outputs": [],
   "source": [
    "singscore_output = singscorePipeline(\n",
    "    df = data_df,\n",
    "    sig_feature_list = signature_features,\n",
    "    num_permutations = num_permutations\n",
    ")\n",
    "\n",
    "full_results_df <- singscore_output[[\"results\"]]\n",
    "permuted <- singscore_output[[\"permuted\"]]\n",
    "\n",
    "# Get max and minimum values of permutation results\n",
    "min_val <- quantile(as.vector(as.matrix(permuted)), 0.05)\n",
    "max_val <- quantile(as.vector(as.matrix(permuted)), 0.95)\n",
    "\n",
    "# Annotate some key metadata and store to list\n",
    "sing_score_results_df <- full_results_df %>%\n",
    "    dplyr::mutate(\n",
    "        dataset = dataset,\n",
    "        min_permuted_value = min_val,\n",
    "        max_permuted_value = max_val\n",
    "    )"
   ]
  },
  {
   "cell_type": "code",
   "execution_count": null,
   "metadata": {},
   "outputs": [],
   "source": [
    "sing_score_results_df %>% readr::write_tsv(output_results_file)\n",
    "\n",
    "print(dim(sing_score_results_df))\n",
    "head(sing_score_results_df)"
   ]
  }
 ],
 "metadata": {
  "kernelspec": {
   "display_name": "R",
   "language": "R",
   "name": "ir"
  },
  "language_info": {
   "codemirror_mode": "r",
   "file_extension": ".r",
   "mimetype": "text/x-r-source",
   "name": "R",
   "pygments_lexer": "r",
   "version": "3.5.1"
  }
 },
 "nbformat": 4,
 "nbformat_minor": 4
}
