{
 "cells": [
  {
   "cell_type": "markdown",
   "id": "0fa60a5b-1342-4f29-8ba3-259cfc6d41f2",
   "metadata": {},
   "source": [
    "## Output ROC scores for otherclone datasets applied bortezomib signature\n",
    "\n",
    "**Gregory Way, 2021**\n",
    "\n",
    "How well is a bortezomib specific classifier able to separate clones resistant to cb5083 and ixazomib?\n",
    "\n",
    "**Yu Han, 2021**\n",
    "\n",
    "How well is a bortezomib specific classifier able to separate WT and BZ clone types?\n",
    "\n",
    "I did not make any major changes to Greg's original script of 10.0, except changing variable names to load in the new batch data results from scripts 8.1 and 9.1. Commented out/removed all lines associated with 'split'. "
   ]
  },
  {
   "cell_type": "code",
   "execution_count": 1,
   "id": "b39e09b5-7a9b-4d8e-9ffd-36f5418d1a24",
   "metadata": {},
   "outputs": [],
   "source": [
    "import sys\n",
    "import pathlib\n",
    "import numpy as np\n",
    "import pandas as pd\n",
    "from sklearn.metrics import accuracy_score, average_precision_score\n",
    "\n",
    "import plotnine as gg\n",
    "\n",
    "from utils.metrics import get_metrics, get_metric_pipeline"
   ]
  },
  {
   "cell_type": "code",
   "execution_count": 2,
   "id": "791953e0-af44-426c-95af-7e5dfa3e11e3",
   "metadata": {},
   "outputs": [],
   "source": [
    "np.random.seed(56789)"
   ]
  },
  {
   "cell_type": "code",
   "execution_count": 3,
   "id": "c95e885e-072f-43ec-a833-18aafb303aa7",
   "metadata": {},
   "outputs": [],
   "source": [
    "# Set constants\n",
    "dataset = \"otherclones\"\n",
    "\n",
    "sig_dir = pathlib.Path(\"results\", \"singscore\")\n",
    "results_file = pathlib.Path(sig_dir, f\"singscore_results_LAST_BATCH_VALIDATION{dataset}.tsv.gz\")\n",
    "\n",
    "output_dir = pathlib.Path(\"results\", \"performance\")\n",
    "\n",
    "num_permutations = 100\n",
    "threshold = 0\n",
    "\n",
    "metric_comparisons = {\n",
    "    \"dataset\": [\"Metadata_clone_type\"],\n",
    "}\n",
    "\n",
    "#roc_model_split_focus = [\"resistant\", \"sensitive\"]"
   ]
  },
  {
   "cell_type": "code",
   "execution_count": 4,
   "id": "cbc9a5ef-60d4-459f-80a6-58cc34240876",
   "metadata": {},
   "outputs": [
    {
     "name": "stdout",
     "output_type": "stream",
     "text": [
      "(480, 28)\n"
     ]
    }
   ],
   "source": [
    "# Load data and double check if there are two classes (e.g., resistant and sensitve)\n",
    "results_df = pd.read_csv(results_file, sep=\"\\t\")\n",
    "\n",
    "print(results_df.shape)"
   ]
  },
  {
   "cell_type": "code",
   "execution_count": 5,
   "id": "1605c15a-8b6e-4668-81c3-eb1ad10cc004",
   "metadata": {},
   "outputs": [
    {
     "name": "stderr",
     "output_type": "stream",
     "text": [
      "/Users/yhan/miniconda3/envs/resistance-mechanisms/lib/python3.7/site-packages/sklearn/metrics/_ranking.py:681: RuntimeWarning: invalid value encountered in true_divide\n",
      "  recall = tps / tps[-1]\n"
     ]
    }
   ],
   "source": [
    "# Get performance metrics using real predictions\n",
    "real_metric_results = get_metric_pipeline(\n",
    "    results_df,\n",
    "    metric_comparisons,\n",
    "    [dataset],\n",
    "    shuffle=False,\n",
    "    signature=False,\n",
    "    threshold=threshold\n",
    ")"
   ]
  },
  {
   "cell_type": "code",
   "execution_count": 6,
   "id": "bf2df8e6-9427-44d8-8e44-0433ea2a2089",
   "metadata": {},
   "outputs": [],
   "source": [
    "# Get performance metrics using shuffled predictions\n",
    "all_shuffle_results = {compare: [] for compare in metric_comparisons}\n",
    "for i in range(0, num_permutations):\n",
    "    np.random.seed(i)\n",
    "    shuffle_metric_results = get_metric_pipeline(\n",
    "        results_df,\n",
    "        metric_comparisons,\n",
    "        datasets=[dataset],\n",
    "        shuffle=True,\n",
    "        signature=False,\n",
    "        threshold=threshold\n",
    "    )\n",
    "    for compare in metric_comparisons:\n",
    "        metric_df = shuffle_metric_results[compare].assign(permutation=i)\n",
    "        all_shuffle_results[compare].append(metric_df)"
   ]
  },
  {
   "cell_type": "code",
   "execution_count": 7,
   "id": "b646eb65",
   "metadata": {},
   "outputs": [
    {
     "data": {
      "text/plain": [
       "0    320\n",
       "1    160\n",
       "Name: Metadata_clone_type_indicator, dtype: int64"
      ]
     },
     "execution_count": 7,
     "metadata": {},
     "output_type": "execute_result"
    }
   ],
   "source": [
    "#double check the data counts are correct\n",
    "results_df.Metadata_clone_type_indicator.value_counts()"
   ]
  },
  {
   "cell_type": "code",
   "execution_count": 8,
   "id": "835aaeac",
   "metadata": {},
   "outputs": [
    {
     "data": {
      "text/html": [
       "<div>\n",
       "<style scoped>\n",
       "    .dataframe tbody tr th:only-of-type {\n",
       "        vertical-align: middle;\n",
       "    }\n",
       "\n",
       "    .dataframe tbody tr th {\n",
       "        vertical-align: top;\n",
       "    }\n",
       "\n",
       "    .dataframe thead th {\n",
       "        text-align: right;\n",
       "    }\n",
       "</style>\n",
       "<table border=\"1\" class=\"dataframe\">\n",
       "  <thead>\n",
       "    <tr style=\"text-align: right;\">\n",
       "      <th></th>\n",
       "      <th>Metadata_clone_type</th>\n",
       "      <th>Metadata_clone_type_indicator</th>\n",
       "      <th>Metadata_clone_number</th>\n",
       "      <th>counts</th>\n",
       "    </tr>\n",
       "  </thead>\n",
       "  <tbody>\n",
       "    <tr>\n",
       "      <th>0</th>\n",
       "      <td>resistant</td>\n",
       "      <td>1</td>\n",
       "      <td>BZ006</td>\n",
       "      <td>32</td>\n",
       "    </tr>\n",
       "    <tr>\n",
       "      <th>1</th>\n",
       "      <td>resistant</td>\n",
       "      <td>1</td>\n",
       "      <td>BZ007</td>\n",
       "      <td>32</td>\n",
       "    </tr>\n",
       "    <tr>\n",
       "      <th>2</th>\n",
       "      <td>resistant</td>\n",
       "      <td>1</td>\n",
       "      <td>BZ008</td>\n",
       "      <td>32</td>\n",
       "    </tr>\n",
       "    <tr>\n",
       "      <th>3</th>\n",
       "      <td>resistant</td>\n",
       "      <td>1</td>\n",
       "      <td>BZ009</td>\n",
       "      <td>32</td>\n",
       "    </tr>\n",
       "    <tr>\n",
       "      <th>4</th>\n",
       "      <td>resistant</td>\n",
       "      <td>1</td>\n",
       "      <td>BZ010</td>\n",
       "      <td>32</td>\n",
       "    </tr>\n",
       "    <tr>\n",
       "      <th>5</th>\n",
       "      <td>sensitive</td>\n",
       "      <td>0</td>\n",
       "      <td>WT clone 10</td>\n",
       "      <td>64</td>\n",
       "    </tr>\n",
       "    <tr>\n",
       "      <th>6</th>\n",
       "      <td>sensitive</td>\n",
       "      <td>0</td>\n",
       "      <td>WT clone 12</td>\n",
       "      <td>64</td>\n",
       "    </tr>\n",
       "    <tr>\n",
       "      <th>7</th>\n",
       "      <td>sensitive</td>\n",
       "      <td>0</td>\n",
       "      <td>WT clone 13</td>\n",
       "      <td>64</td>\n",
       "    </tr>\n",
       "    <tr>\n",
       "      <th>8</th>\n",
       "      <td>sensitive</td>\n",
       "      <td>0</td>\n",
       "      <td>WT clone 14</td>\n",
       "      <td>64</td>\n",
       "    </tr>\n",
       "    <tr>\n",
       "      <th>9</th>\n",
       "      <td>sensitive</td>\n",
       "      <td>0</td>\n",
       "      <td>WT clone 15</td>\n",
       "      <td>64</td>\n",
       "    </tr>\n",
       "  </tbody>\n",
       "</table>\n",
       "</div>"
      ],
      "text/plain": [
       "  Metadata_clone_type  Metadata_clone_type_indicator Metadata_clone_number  \\\n",
       "0           resistant                              1                 BZ006   \n",
       "1           resistant                              1                 BZ007   \n",
       "2           resistant                              1                 BZ008   \n",
       "3           resistant                              1                 BZ009   \n",
       "4           resistant                              1                 BZ010   \n",
       "5           sensitive                              0           WT clone 10   \n",
       "6           sensitive                              0           WT clone 12   \n",
       "7           sensitive                              0           WT clone 13   \n",
       "8           sensitive                              0           WT clone 14   \n",
       "9           sensitive                              0           WT clone 15   \n",
       "\n",
       "   counts  \n",
       "0      32  \n",
       "1      32  \n",
       "2      32  \n",
       "3      32  \n",
       "4      32  \n",
       "5      64  \n",
       "6      64  \n",
       "7      64  \n",
       "8      64  \n",
       "9      64  "
      ]
     },
     "execution_count": 8,
     "metadata": {},
     "output_type": "execute_result"
    }
   ],
   "source": [
    "results_df.groupby(['Metadata_clone_type', 'Metadata_clone_type_indicator','Metadata_clone_number' ]).size().reset_index(name='counts')"
   ]
  },
  {
   "cell_type": "code",
   "execution_count": 9,
   "id": "191b7ed7-efc5-480e-904d-d2d4cde36d18",
   "metadata": {},
   "outputs": [],
   "source": [
    "# Get ROC curve information for model sets\n",
    "roc_scores = []\n",
    "roc_curve_data = []\n",
    "#for split in roc_model_split_focus:\n",
    "    #results_subset_df = results_df.query(\"Metadata_clone_type == @split\")\n",
    "for shuffle in [True, False]:\n",
    "    roc_auc_val, roc_df = get_metrics(df=results_df, return_roc_curve=True, shuffle=shuffle)\n",
    "\n",
    "    roc_scores.append(pd.Series([roc_auc_val, shuffle]))\n",
    "    roc_curve_data.append(roc_df.assign(shuffled=shuffle))\n",
    "\n",
    "roc_scores_df = pd.DataFrame(roc_scores)\n",
    "roc_scores_df.columns = [\"roc_auc\", \"shuffled\"]\n",
    "roc_curve_data_df = pd.concat(roc_curve_data).reset_index(drop=True)"
   ]
  },
  {
   "cell_type": "code",
   "execution_count": 10,
   "id": "b1e9d13e",
   "metadata": {},
   "outputs": [
    {
     "data": {
      "text/html": [
       "<div>\n",
       "<style scoped>\n",
       "    .dataframe tbody tr th:only-of-type {\n",
       "        vertical-align: middle;\n",
       "    }\n",
       "\n",
       "    .dataframe tbody tr th {\n",
       "        vertical-align: top;\n",
       "    }\n",
       "\n",
       "    .dataframe thead th {\n",
       "        text-align: right;\n",
       "    }\n",
       "</style>\n",
       "<table border=\"1\" class=\"dataframe\">\n",
       "  <thead>\n",
       "    <tr style=\"text-align: right;\">\n",
       "      <th></th>\n",
       "      <th>fpr</th>\n",
       "      <th>tpr</th>\n",
       "      <th>threshold</th>\n",
       "      <th>shuffled</th>\n",
       "    </tr>\n",
       "  </thead>\n",
       "  <tbody>\n",
       "    <tr>\n",
       "      <th>0</th>\n",
       "      <td>0.000000</td>\n",
       "      <td>0.00000</td>\n",
       "      <td>1.522342</td>\n",
       "      <td>True</td>\n",
       "    </tr>\n",
       "    <tr>\n",
       "      <th>1</th>\n",
       "      <td>0.006250</td>\n",
       "      <td>0.01250</td>\n",
       "      <td>0.522342</td>\n",
       "      <td>True</td>\n",
       "    </tr>\n",
       "    <tr>\n",
       "      <th>2</th>\n",
       "      <td>0.015625</td>\n",
       "      <td>0.01875</td>\n",
       "      <td>0.489874</td>\n",
       "      <td>True</td>\n",
       "    </tr>\n",
       "    <tr>\n",
       "      <th>3</th>\n",
       "      <td>0.025000</td>\n",
       "      <td>0.02500</td>\n",
       "      <td>0.449164</td>\n",
       "      <td>True</td>\n",
       "    </tr>\n",
       "    <tr>\n",
       "      <th>4</th>\n",
       "      <td>0.034375</td>\n",
       "      <td>0.03125</td>\n",
       "      <td>0.408079</td>\n",
       "      <td>True</td>\n",
       "    </tr>\n",
       "  </tbody>\n",
       "</table>\n",
       "</div>"
      ],
      "text/plain": [
       "        fpr      tpr  threshold  shuffled\n",
       "0  0.000000  0.00000   1.522342      True\n",
       "1  0.006250  0.01250   0.522342      True\n",
       "2  0.015625  0.01875   0.489874      True\n",
       "3  0.025000  0.02500   0.449164      True\n",
       "4  0.034375  0.03125   0.408079      True"
      ]
     },
     "execution_count": 10,
     "metadata": {},
     "output_type": "execute_result"
    }
   ],
   "source": [
    "roc_curve_data_df.head()"
   ]
  },
  {
   "cell_type": "code",
   "execution_count": 11,
   "id": "cc0efb73-1689-4024-b37a-88ba8eff3191",
   "metadata": {},
   "outputs": [],
   "source": [
    "# Output performance results\n",
    "for compare in metric_comparisons:\n",
    "    full_results_df = real_metric_results[compare]\n",
    "    shuffle_results_df = pd.concat(all_shuffle_results[compare]).reset_index(drop=True)\n",
    "    \n",
    "    output_file = pathlib.Path(f\"{output_dir}/{compare}_{dataset}_metric_performance_LAST_BATCH_VALIDATION.tsv\")\n",
    "    full_results_df.to_csv(output_file, sep=\"\\t\", index=False)\n",
    "    \n",
    "    output_file = pathlib.Path(f\"{output_dir}/{compare}_{dataset}_shuffle_metric_performance_LAST_BATCH_VALIDATION.tsv\")\n",
    "    shuffle_results_df.to_csv(output_file, sep=\"\\t\", index=False)\n",
    "    \n",
    "# Output ROC results\n",
    "output_file = pathlib.Path(f\"{output_dir}/{dataset}_bortezomibsignature_roc_auc_LAST_BATCH_VALIDATION.tsv\")\n",
    "roc_scores_df.to_csv(output_file, sep=\"\\t\", index=False)\n",
    "\n",
    "output_file = pathlib.Path(f\"{output_dir}/{dataset}_bortezomibsignature_roc_curve_LAST_BATCH_VALIDATION.tsv\")\n",
    "roc_curve_data_df.to_csv(output_file, sep=\"\\t\", index=False)"
   ]
  }
 ],
 "metadata": {
  "kernelspec": {
   "display_name": "Python 3",
   "language": "python",
   "name": "python3"
  },
  "language_info": {
   "codemirror_mode": {
    "name": "ipython",
    "version": 3
   },
   "file_extension": ".py",
   "mimetype": "text/x-python",
   "name": "python",
   "nbconvert_exporter": "python",
   "pygments_lexer": "ipython3",
   "version": "3.7.1"
  }
 },
 "nbformat": 4,
 "nbformat_minor": 5
}
