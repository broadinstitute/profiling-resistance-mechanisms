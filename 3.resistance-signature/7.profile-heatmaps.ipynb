{
 "cells": [
  {
   "cell_type": "markdown",
   "metadata": {},
   "source": [
    "## Visualize correlation heatmaps across profiles with metadata\n",
    "\n",
    "Gregory Way, 2021"
   ]
  },
  {
   "cell_type": "code",
   "execution_count": 1,
   "metadata": {},
   "outputs": [],
   "source": [
    "suppressPackageStartupMessages(library(dplyr))\n",
    "suppressPackageStartupMessages(library(devtools))\n",
    "source(file.path(\"utils/viz.R\"))"
   ]
  },
  {
   "cell_type": "code",
   "execution_count": 2,
   "metadata": {},
   "outputs": [
    {
     "name": "stderr",
     "output_type": "stream",
     "text": [
      "Downloading GitHub repo jokergoo/ComplexHeatmap@a387b860186be1d09249128be1ff46d13101e45d\n"
     ]
    },
    {
     "name": "stdout",
     "output_type": "stream",
     "text": [
      "circlize     (NA     -> 0.4.13  ) [CRAN]\n",
      "GetoptLong   (NA     -> 1.0.5   ) [CRAN]\n",
      "clue         (NA     -> 0.3-59  ) [CRAN]\n",
      "Cairo        (1.5-9  -> 1.5-12.2) [CRAN]\n",
      "digest       (0.6.25 -> 0.6.27  ) [CRAN]\n",
      "IRanges      (NA     -> 2.16.0  ) [CRAN]\n",
      "matrixStats  (NA     -> 0.60.1  ) [CRAN]\n",
      "BiocGenerics (NA     -> 0.28.0  ) [CRAN]\n",
      "shape        (NA     -> 1.4.6   ) [CRAN]\n",
      "rjson        (NA     -> 0.2.20  ) [CRAN]\n",
      "crayon       (1.3.4  -> 1.4.1   ) [CRAN]\n",
      "cluster      (NA     -> 2.1.2   ) [CRAN]\n",
      "S4Vectors    (NA     -> 0.20.1  ) [CRAN]\n"
     ]
    },
    {
     "name": "stderr",
     "output_type": "stream",
     "text": [
      "Installing 13 packages: circlize, GetoptLong, clue, Cairo, digest, IRanges, matrixStats, BiocGenerics, shape, rjson, crayon, cluster, S4Vectors\n"
     ]
    },
    {
     "ename": "ERROR",
     "evalue": "Error: Failed to install 'ComplexHeatmap' from GitHub:\n  (converted from warning) installation of package ‘Cairo’ had non-zero exit status\n",
     "output_type": "error",
     "traceback": [
      "Error: Failed to install 'ComplexHeatmap' from GitHub:\n  (converted from warning) installation of package ‘Cairo’ had non-zero exit status\nTraceback:\n",
      "1. install_github(\"jokergoo/ComplexHeatmap@a387b860186be1d09249128be1ff46d13101e45d\")   # at line 5 of file <text>",
      "2. pkgbuild::with_build_tools({\n .     ellipsis::check_dots_used(action = getOption(\"devtools.ellipsis_action\", \n .         rlang::warn))\n .     {\n .         remotes <- lapply(repo, github_remote, ref = ref, subdir = subdir, \n .             auth_token = auth_token, host = host)\n .         install_remotes(remotes, auth_token = auth_token, host = host, \n .             dependencies = dependencies, upgrade = upgrade, force = force, \n .             quiet = quiet, build = build, build_opts = build_opts, \n .             build_manual = build_manual, build_vignettes = build_vignettes, \n .             repos = repos, type = type, ...)\n .     }\n . }, required = FALSE)",
      "3. install_remotes(remotes, auth_token = auth_token, host = host, \n .     dependencies = dependencies, upgrade = upgrade, force = force, \n .     quiet = quiet, build = build, build_opts = build_opts, build_manual = build_manual, \n .     build_vignettes = build_vignettes, repos = repos, type = type, \n .     ...)",
      "4. tryCatch(res[[i]] <- install_remote(remotes[[i]], ...), error = function(e) {\n .     stop(remote_install_error(remotes[[i]], e))\n . })",
      "5. tryCatchList(expr, classes, parentenv, handlers)",
      "6. tryCatchOne(expr, names, parentenv, handlers[[1L]])",
      "7. value[[3L]](cond)"
     ]
    }
   ],
   "source": [
    "# The correct version of ComplexHeatmap was not available on anaconda\n",
    "# https://anaconda.org/bioconda/bioconductor-complexheatmap\n",
    "# Install it here\n",
    "if (!(\"ComplexHeatmap\" %in% rownames(installed.packages()))) {\n",
    "    install_github(\"jokergoo/ComplexHeatmap@a387b860186be1d09249128be1ff46d13101e45d\")\n",
    "}\n",
    "\n",
    "suppressPackageStartupMessages(library(ComplexHeatmap))"
   ]
  },
  {
   "cell_type": "code",
   "execution_count": 4,
   "metadata": {},
   "outputs": [],
   "source": [
    "# Set constants\n",
    "dataset <- \"bortezomib\"\n",
    "data_dir <- \"data\"\n",
    "\n",
    "output_dir <- file.path(\"figures\", \"heatmaps\")\n",
    "\n",
    "lgd_title_fontsize = 9\n",
    "lgd_label_fontsize = 6.5\n",
    "anno_name_height = 0.45"
   ]
  },
  {
   "cell_type": "code",
   "execution_count": 5,
   "metadata": {},
   "outputs": [
    {
     "name": "stdout",
     "output_type": "stream",
     "text": [
      "[1]  525 3546\n"
     ]
    },
    {
     "data": {
      "text/html": [
       "<table>\n",
       "<caption>A tibble: 3 × 3546</caption>\n",
       "<thead>\n",
       "\t<tr><th scope=col>Metadata_Plate</th><th scope=col>Metadata_Well</th><th scope=col>Metadata_batch</th><th scope=col>Metadata_cell_count</th><th scope=col>Metadata_cell_density</th><th scope=col>Metadata_celltype_shorthand_from_plate_graph</th><th scope=col>Metadata_clone_number</th><th scope=col>Metadata_date</th><th scope=col>Metadata_plate_map_name</th><th scope=col>Metadata_time_to_adhere</th><th scope=col>⋯</th><th scope=col>Nuclei_Texture_Variance_RNA_10_02</th><th scope=col>Nuclei_Texture_Variance_RNA_10_03</th><th scope=col>Nuclei_Texture_Variance_RNA_20_00</th><th scope=col>Nuclei_Texture_Variance_RNA_20_01</th><th scope=col>Nuclei_Texture_Variance_RNA_20_02</th><th scope=col>Nuclei_Texture_Variance_RNA_20_03</th><th scope=col>Nuclei_Texture_Variance_RNA_5_00</th><th scope=col>Nuclei_Texture_Variance_RNA_5_01</th><th scope=col>Nuclei_Texture_Variance_RNA_5_02</th><th scope=col>Nuclei_Texture_Variance_RNA_5_03</th></tr>\n",
       "\t<tr><th scope=col>&lt;chr&gt;</th><th scope=col>&lt;chr&gt;</th><th scope=col>&lt;chr&gt;</th><th scope=col>&lt;int&gt;</th><th scope=col>&lt;chr&gt;</th><th scope=col>&lt;dbl&gt;</th><th scope=col>&lt;chr&gt;</th><th scope=col>&lt;dbl&gt;</th><th scope=col>&lt;chr&gt;</th><th scope=col>&lt;chr&gt;</th><th scope=col>⋯</th><th scope=col>&lt;dbl&gt;</th><th scope=col>&lt;dbl&gt;</th><th scope=col>&lt;dbl&gt;</th><th scope=col>&lt;dbl&gt;</th><th scope=col>&lt;dbl&gt;</th><th scope=col>&lt;dbl&gt;</th><th scope=col>&lt;dbl&gt;</th><th scope=col>&lt;dbl&gt;</th><th scope=col>&lt;dbl&gt;</th><th scope=col>&lt;dbl&gt;</th></tr>\n",
       "</thead>\n",
       "<tbody>\n",
       "\t<tr><td>219907</td><td>B02</td><td>2021_03_03_Batch12</td><td>6139</td><td>2.5x10^3 cells/well</td><td>1</td><td>WT_parental</td><td>20210205</td><td>219814</td><td>48 hr</td><td>⋯</td><td>-0.6430638</td><td>-0.6342366</td><td>-0.6554599</td><td>-0.6673215</td><td>-0.6546287</td><td>-0.6977682</td><td>-0.6320059</td><td>-0.6297243</td><td>-0.6345844</td><td>-0.6329460</td></tr>\n",
       "\t<tr><td>219907</td><td>B03</td><td>2021_03_03_Batch12</td><td>4567</td><td>2.5x10^3 cells/well</td><td>2</td><td>CloneA     </td><td>20210205</td><td>219814</td><td>48 hr</td><td>⋯</td><td>-0.8308873</td><td>-0.8344854</td><td>-0.8304672</td><td>-0.8178338</td><td>-0.8309076</td><td>-0.8234369</td><td>-0.8347194</td><td>-0.8332018</td><td>-0.8327623</td><td>-0.8296075</td></tr>\n",
       "\t<tr><td>219907</td><td>B04</td><td>2021_03_03_Batch12</td><td>5624</td><td>2.5x10^3 cells/well</td><td>3</td><td>CloneE     </td><td>20210205</td><td>219814</td><td>48 hr</td><td>⋯</td><td>-0.9813265</td><td>-0.9759700</td><td>-0.9728225</td><td>-0.9617426</td><td>-0.9721434</td><td>-0.9618017</td><td>-0.9802334</td><td>-0.9790954</td><td>-0.9839611</td><td>-0.9793490</td></tr>\n",
       "</tbody>\n",
       "</table>\n"
      ],
      "text/latex": [
       "A tibble: 3 × 3546\n",
       "\\begin{tabular}{lllllllllllllllllllll}\n",
       " Metadata\\_Plate & Metadata\\_Well & Metadata\\_batch & Metadata\\_cell\\_count & Metadata\\_cell\\_density & Metadata\\_celltype\\_shorthand\\_from\\_plate\\_graph & Metadata\\_clone\\_number & Metadata\\_date & Metadata\\_plate\\_map\\_name & Metadata\\_time\\_to\\_adhere & ⋯ & Nuclei\\_Texture\\_Variance\\_RNA\\_10\\_02 & Nuclei\\_Texture\\_Variance\\_RNA\\_10\\_03 & Nuclei\\_Texture\\_Variance\\_RNA\\_20\\_00 & Nuclei\\_Texture\\_Variance\\_RNA\\_20\\_01 & Nuclei\\_Texture\\_Variance\\_RNA\\_20\\_02 & Nuclei\\_Texture\\_Variance\\_RNA\\_20\\_03 & Nuclei\\_Texture\\_Variance\\_RNA\\_5\\_00 & Nuclei\\_Texture\\_Variance\\_RNA\\_5\\_01 & Nuclei\\_Texture\\_Variance\\_RNA\\_5\\_02 & Nuclei\\_Texture\\_Variance\\_RNA\\_5\\_03\\\\\n",
       " <chr> & <chr> & <chr> & <int> & <chr> & <dbl> & <chr> & <dbl> & <chr> & <chr> & ⋯ & <dbl> & <dbl> & <dbl> & <dbl> & <dbl> & <dbl> & <dbl> & <dbl> & <dbl> & <dbl>\\\\\n",
       "\\hline\n",
       "\t 219907 & B02 & 2021\\_03\\_03\\_Batch12 & 6139 & 2.5x10\\textasciicircum{}3 cells/well & 1 & WT\\_parental & 20210205 & 219814 & 48 hr & ⋯ & -0.6430638 & -0.6342366 & -0.6554599 & -0.6673215 & -0.6546287 & -0.6977682 & -0.6320059 & -0.6297243 & -0.6345844 & -0.6329460\\\\\n",
       "\t 219907 & B03 & 2021\\_03\\_03\\_Batch12 & 4567 & 2.5x10\\textasciicircum{}3 cells/well & 2 & CloneA      & 20210205 & 219814 & 48 hr & ⋯ & -0.8308873 & -0.8344854 & -0.8304672 & -0.8178338 & -0.8309076 & -0.8234369 & -0.8347194 & -0.8332018 & -0.8327623 & -0.8296075\\\\\n",
       "\t 219907 & B04 & 2021\\_03\\_03\\_Batch12 & 5624 & 2.5x10\\textasciicircum{}3 cells/well & 3 & CloneE      & 20210205 & 219814 & 48 hr & ⋯ & -0.9813265 & -0.9759700 & -0.9728225 & -0.9617426 & -0.9721434 & -0.9618017 & -0.9802334 & -0.9790954 & -0.9839611 & -0.9793490\\\\\n",
       "\\end{tabular}\n"
      ],
      "text/markdown": [
       "\n",
       "A tibble: 3 × 3546\n",
       "\n",
       "| Metadata_Plate &lt;chr&gt; | Metadata_Well &lt;chr&gt; | Metadata_batch &lt;chr&gt; | Metadata_cell_count &lt;int&gt; | Metadata_cell_density &lt;chr&gt; | Metadata_celltype_shorthand_from_plate_graph &lt;dbl&gt; | Metadata_clone_number &lt;chr&gt; | Metadata_date &lt;dbl&gt; | Metadata_plate_map_name &lt;chr&gt; | Metadata_time_to_adhere &lt;chr&gt; | ⋯ ⋯ | Nuclei_Texture_Variance_RNA_10_02 &lt;dbl&gt; | Nuclei_Texture_Variance_RNA_10_03 &lt;dbl&gt; | Nuclei_Texture_Variance_RNA_20_00 &lt;dbl&gt; | Nuclei_Texture_Variance_RNA_20_01 &lt;dbl&gt; | Nuclei_Texture_Variance_RNA_20_02 &lt;dbl&gt; | Nuclei_Texture_Variance_RNA_20_03 &lt;dbl&gt; | Nuclei_Texture_Variance_RNA_5_00 &lt;dbl&gt; | Nuclei_Texture_Variance_RNA_5_01 &lt;dbl&gt; | Nuclei_Texture_Variance_RNA_5_02 &lt;dbl&gt; | Nuclei_Texture_Variance_RNA_5_03 &lt;dbl&gt; |\n",
       "|---|---|---|---|---|---|---|---|---|---|---|---|---|---|---|---|---|---|---|---|---|\n",
       "| 219907 | B02 | 2021_03_03_Batch12 | 6139 | 2.5x10^3 cells/well | 1 | WT_parental | 20210205 | 219814 | 48 hr | ⋯ | -0.6430638 | -0.6342366 | -0.6554599 | -0.6673215 | -0.6546287 | -0.6977682 | -0.6320059 | -0.6297243 | -0.6345844 | -0.6329460 |\n",
       "| 219907 | B03 | 2021_03_03_Batch12 | 4567 | 2.5x10^3 cells/well | 2 | CloneA      | 20210205 | 219814 | 48 hr | ⋯ | -0.8308873 | -0.8344854 | -0.8304672 | -0.8178338 | -0.8309076 | -0.8234369 | -0.8347194 | -0.8332018 | -0.8327623 | -0.8296075 |\n",
       "| 219907 | B04 | 2021_03_03_Batch12 | 5624 | 2.5x10^3 cells/well | 3 | CloneE      | 20210205 | 219814 | 48 hr | ⋯ | -0.9813265 | -0.9759700 | -0.9728225 | -0.9617426 | -0.9721434 | -0.9618017 | -0.9802334 | -0.9790954 | -0.9839611 | -0.9793490 |\n",
       "\n"
      ],
      "text/plain": [
       "  Metadata_Plate Metadata_Well Metadata_batch     Metadata_cell_count\n",
       "1 219907         B02           2021_03_03_Batch12 6139               \n",
       "2 219907         B03           2021_03_03_Batch12 4567               \n",
       "3 219907         B04           2021_03_03_Batch12 5624               \n",
       "  Metadata_cell_density Metadata_celltype_shorthand_from_plate_graph\n",
       "1 2.5x10^3 cells/well   1                                           \n",
       "2 2.5x10^3 cells/well   2                                           \n",
       "3 2.5x10^3 cells/well   3                                           \n",
       "  Metadata_clone_number Metadata_date Metadata_plate_map_name\n",
       "1 WT_parental           20210205      219814                 \n",
       "2 CloneA                20210205      219814                 \n",
       "3 CloneE                20210205      219814                 \n",
       "  Metadata_time_to_adhere ⋯ Nuclei_Texture_Variance_RNA_10_02\n",
       "1 48 hr                   ⋯ -0.6430638                       \n",
       "2 48 hr                   ⋯ -0.8308873                       \n",
       "3 48 hr                   ⋯ -0.9813265                       \n",
       "  Nuclei_Texture_Variance_RNA_10_03 Nuclei_Texture_Variance_RNA_20_00\n",
       "1 -0.6342366                        -0.6554599                       \n",
       "2 -0.8344854                        -0.8304672                       \n",
       "3 -0.9759700                        -0.9728225                       \n",
       "  Nuclei_Texture_Variance_RNA_20_01 Nuclei_Texture_Variance_RNA_20_02\n",
       "1 -0.6673215                        -0.6546287                       \n",
       "2 -0.8178338                        -0.8309076                       \n",
       "3 -0.9617426                        -0.9721434                       \n",
       "  Nuclei_Texture_Variance_RNA_20_03 Nuclei_Texture_Variance_RNA_5_00\n",
       "1 -0.6977682                        -0.6320059                      \n",
       "2 -0.8234369                        -0.8347194                      \n",
       "3 -0.9618017                        -0.9802334                      \n",
       "  Nuclei_Texture_Variance_RNA_5_01 Nuclei_Texture_Variance_RNA_5_02\n",
       "1 -0.6297243                       -0.6345844                      \n",
       "2 -0.8332018                       -0.8327623                      \n",
       "3 -0.9790954                       -0.9839611                      \n",
       "  Nuclei_Texture_Variance_RNA_5_03\n",
       "1 -0.6329460                      \n",
       "2 -0.8296075                      \n",
       "3 -0.9793490                      "
      ]
     },
     "metadata": {},
     "output_type": "display_data"
    }
   ],
   "source": [
    "# Load profiles\n",
    "dataset_file <- file.path(data_dir, paste0(dataset, \"_signature_analytical_set.tsv.gz\"))\n",
    "\n",
    "data_cols <- readr::cols(\n",
    "    .default = readr::col_double(),\n",
    "    Metadata_Plate = readr::col_character(),\n",
    "    Metadata_Well = readr::col_character(),\n",
    "    Metadata_cell_count = readr::col_integer(),\n",
    "    Metadata_batch = readr::col_character(),\n",
    "    Metadata_clone_number = readr::col_character(),\n",
    "    Metadata_plate_map_name = readr::col_character(),\n",
    "    Metadata_treatment = readr::col_character(),\n",
    "    Metadata_dataset = readr::col_character(),\n",
    "    Metadata_clone_type = readr::col_character(),\n",
    "    Metadata_clone_type_indicator = readr::col_character(),\n",
    "    Metadata_model_split = readr::col_character(),\n",
    "    Metadata_cell_density = readr::col_character(),\n",
    "    Metadata_treatment_time = readr::col_character(),\n",
    "    Metadata_unique_sample_name = readr::col_character(),\n",
    "    Metadata_time_to_adhere = readr::col_character()\n",
    ")\n",
    "\n",
    "dataset_df <- readr::read_tsv(dataset_file, col_types=data_cols)\n",
    "\n",
    "print(dim(dataset_df))\n",
    "head(dataset_df, 3)"
   ]
  },
  {
   "cell_type": "code",
   "execution_count": 6,
   "metadata": {},
   "outputs": [
    {
     "name": "stdout",
     "output_type": "stream",
     "text": [
      "[1] 782   8\n"
     ]
    },
    {
     "data": {
      "text/html": [
       "<table>\n",
       "<caption>A tibble: 4 × 8</caption>\n",
       "<thead>\n",
       "\t<tr><th scope=col>features</th><th scope=col>non_status_significant_exclude</th><th scope=col>batch_exclude</th><th scope=col>cell_count_exclude</th><th scope=col>non_specific_exclude</th><th scope=col>treatment_time_exclude</th><th scope=col>final_signature</th><th scope=col>dataset</th></tr>\n",
       "\t<tr><th scope=col>&lt;chr&gt;</th><th scope=col>&lt;lgl&gt;</th><th scope=col>&lt;lgl&gt;</th><th scope=col>&lt;lgl&gt;</th><th scope=col>&lt;lgl&gt;</th><th scope=col>&lt;lgl&gt;</th><th scope=col>&lt;lgl&gt;</th><th scope=col>&lt;chr&gt;</th></tr>\n",
       "</thead>\n",
       "<tbody>\n",
       "\t<tr><td>Cells_AreaShape_Compactness </td><td>FALSE</td><td>FALSE</td><td>FALSE</td><td>TRUE</td><td>FALSE</td><td>FALSE</td><td>bortezomib</td></tr>\n",
       "\t<tr><td>Cells_AreaShape_Eccentricity</td><td> TRUE</td><td>FALSE</td><td> TRUE</td><td>TRUE</td><td>FALSE</td><td>FALSE</td><td>bortezomib</td></tr>\n",
       "\t<tr><td>Cells_AreaShape_Extent      </td><td>FALSE</td><td>FALSE</td><td>FALSE</td><td>TRUE</td><td>FALSE</td><td>FALSE</td><td>bortezomib</td></tr>\n",
       "\t<tr><td>Cells_AreaShape_FormFactor  </td><td>FALSE</td><td>FALSE</td><td> TRUE</td><td>TRUE</td><td>FALSE</td><td>FALSE</td><td>bortezomib</td></tr>\n",
       "</tbody>\n",
       "</table>\n"
      ],
      "text/latex": [
       "A tibble: 4 × 8\n",
       "\\begin{tabular}{llllllll}\n",
       " features & non\\_status\\_significant\\_exclude & batch\\_exclude & cell\\_count\\_exclude & non\\_specific\\_exclude & treatment\\_time\\_exclude & final\\_signature & dataset\\\\\n",
       " <chr> & <lgl> & <lgl> & <lgl> & <lgl> & <lgl> & <lgl> & <chr>\\\\\n",
       "\\hline\n",
       "\t Cells\\_AreaShape\\_Compactness  & FALSE & FALSE & FALSE & TRUE & FALSE & FALSE & bortezomib\\\\\n",
       "\t Cells\\_AreaShape\\_Eccentricity &  TRUE & FALSE &  TRUE & TRUE & FALSE & FALSE & bortezomib\\\\\n",
       "\t Cells\\_AreaShape\\_Extent       & FALSE & FALSE & FALSE & TRUE & FALSE & FALSE & bortezomib\\\\\n",
       "\t Cells\\_AreaShape\\_FormFactor   & FALSE & FALSE &  TRUE & TRUE & FALSE & FALSE & bortezomib\\\\\n",
       "\\end{tabular}\n"
      ],
      "text/markdown": [
       "\n",
       "A tibble: 4 × 8\n",
       "\n",
       "| features &lt;chr&gt; | non_status_significant_exclude &lt;lgl&gt; | batch_exclude &lt;lgl&gt; | cell_count_exclude &lt;lgl&gt; | non_specific_exclude &lt;lgl&gt; | treatment_time_exclude &lt;lgl&gt; | final_signature &lt;lgl&gt; | dataset &lt;chr&gt; |\n",
       "|---|---|---|---|---|---|---|---|\n",
       "| Cells_AreaShape_Compactness  | FALSE | FALSE | FALSE | TRUE | FALSE | FALSE | bortezomib |\n",
       "| Cells_AreaShape_Eccentricity |  TRUE | FALSE |  TRUE | TRUE | FALSE | FALSE | bortezomib |\n",
       "| Cells_AreaShape_Extent       | FALSE | FALSE | FALSE | TRUE | FALSE | FALSE | bortezomib |\n",
       "| Cells_AreaShape_FormFactor   | FALSE | FALSE |  TRUE | TRUE | FALSE | FALSE | bortezomib |\n",
       "\n"
      ],
      "text/plain": [
       "  features                     non_status_significant_exclude batch_exclude\n",
       "1 Cells_AreaShape_Compactness  FALSE                          FALSE        \n",
       "2 Cells_AreaShape_Eccentricity  TRUE                          FALSE        \n",
       "3 Cells_AreaShape_Extent       FALSE                          FALSE        \n",
       "4 Cells_AreaShape_FormFactor   FALSE                          FALSE        \n",
       "  cell_count_exclude non_specific_exclude treatment_time_exclude\n",
       "1 FALSE              TRUE                 FALSE                 \n",
       "2  TRUE              TRUE                 FALSE                 \n",
       "3 FALSE              TRUE                 FALSE                 \n",
       "4  TRUE              TRUE                 FALSE                 \n",
       "  final_signature dataset   \n",
       "1 FALSE           bortezomib\n",
       "2 FALSE           bortezomib\n",
       "3 FALSE           bortezomib\n",
       "4 FALSE           bortezomib"
      ]
     },
     "metadata": {},
     "output_type": "display_data"
    }
   ],
   "source": [
    "# Load signatures\n",
    "sig_dir <- file.path(\"results\", \"signatures\")\n",
    "signature_file <- file.path(sig_dir, paste0(\"signature_summary_\", dataset, \"_signature.tsv.gz\"))\n",
    "\n",
    "sig_col_types <- readr::cols(\n",
    "    features = readr::col_character(),\n",
    "    non_specific_exclude = readr::col_logical(),\n",
    "    final_signature = readr::col_logical(),\n",
    "    dataset = readr::col_character()\n",
    ")\n",
    "\n",
    "signature_df <- readr::read_tsv(signature_file, col_types = sig_col_types)\n",
    "\n",
    "print(dim(signature_df))\n",
    "head(signature_df, 4)"
   ]
  },
  {
   "cell_type": "code",
   "execution_count": 7,
   "metadata": {},
   "outputs": [
    {
     "name": "stdout",
     "output_type": "stream",
     "text": [
      "[1] 782   2\n"
     ]
    },
    {
     "data": {
      "text/html": [
       "<table>\n",
       "<caption>A tibble: 3 × 2</caption>\n",
       "<thead>\n",
       "\t<tr><th scope=col>features</th><th scope=col>dataset</th></tr>\n",
       "\t<tr><th scope=col>&lt;chr&gt;</th><th scope=col>&lt;chr&gt;</th></tr>\n",
       "</thead>\n",
       "<tbody>\n",
       "\t<tr><td>Cells_AreaShape_Compactness </td><td>bortezomib</td></tr>\n",
       "\t<tr><td>Cells_AreaShape_Eccentricity</td><td>bortezomib</td></tr>\n",
       "\t<tr><td>Cells_AreaShape_Extent      </td><td>bortezomib</td></tr>\n",
       "</tbody>\n",
       "</table>\n"
      ],
      "text/latex": [
       "A tibble: 3 × 2\n",
       "\\begin{tabular}{ll}\n",
       " features & dataset\\\\\n",
       " <chr> & <chr>\\\\\n",
       "\\hline\n",
       "\t Cells\\_AreaShape\\_Compactness  & bortezomib\\\\\n",
       "\t Cells\\_AreaShape\\_Eccentricity & bortezomib\\\\\n",
       "\t Cells\\_AreaShape\\_Extent       & bortezomib\\\\\n",
       "\\end{tabular}\n"
      ],
      "text/markdown": [
       "\n",
       "A tibble: 3 × 2\n",
       "\n",
       "| features &lt;chr&gt; | dataset &lt;chr&gt; |\n",
       "|---|---|\n",
       "| Cells_AreaShape_Compactness  | bortezomib |\n",
       "| Cells_AreaShape_Eccentricity | bortezomib |\n",
       "| Cells_AreaShape_Extent       | bortezomib |\n",
       "\n"
      ],
      "text/plain": [
       "  features                     dataset   \n",
       "1 Cells_AreaShape_Compactness  bortezomib\n",
       "2 Cells_AreaShape_Eccentricity bortezomib\n",
       "3 Cells_AreaShape_Extent       bortezomib"
      ]
     },
     "metadata": {},
     "output_type": "display_data"
    }
   ],
   "source": [
    "# Load feature selection results\n",
    "feat_file <- file.path(data_dir, \"dataset_features_selected.tsv\")\n",
    "\n",
    "feat_cols <- readr::cols(\n",
    "  features = readr::col_character(),\n",
    "  dataset = readr::col_character()\n",
    ")\n",
    "\n",
    "features_df <- readr::read_tsv(feat_file, col_types = feat_cols)\n",
    "\n",
    "print(dim(features_df))\n",
    "head(features_df, 3)"
   ]
  },
  {
   "cell_type": "code",
   "execution_count": 8,
   "metadata": {},
   "outputs": [
    {
     "name": "stdout",
     "output_type": "stream",
     "text": [
      "[1] 525  28\n"
     ]
    },
    {
     "data": {
      "text/html": [
       "<table>\n",
       "<caption>A tibble: 3 × 28</caption>\n",
       "<thead>\n",
       "\t<tr><th scope=col>Metadata_Plate</th><th scope=col>Metadata_Well</th><th scope=col>Metadata_batch</th><th scope=col>Metadata_cell_count</th><th scope=col>Metadata_cell_density</th><th scope=col>Metadata_celltype_shorthand_from_plate_graph</th><th scope=col>Metadata_clone_number</th><th scope=col>Metadata_date</th><th scope=col>Metadata_plate_map_name</th><th scope=col>Metadata_time_to_adhere</th><th scope=col>⋯</th><th scope=col>TotalScore</th><th scope=col>TotalDispersion</th><th scope=col>UpScore</th><th scope=col>UpDispersion</th><th scope=col>DownScore</th><th scope=col>DownDispersion</th><th scope=col>Metadata_permuted_p_value</th><th scope=col>dataset</th><th scope=col>min_permuted_value</th><th scope=col>max_permuted_value</th></tr>\n",
       "\t<tr><th scope=col>&lt;chr&gt;</th><th scope=col>&lt;chr&gt;</th><th scope=col>&lt;chr&gt;</th><th scope=col>&lt;chr&gt;</th><th scope=col>&lt;chr&gt;</th><th scope=col>&lt;int&gt;</th><th scope=col>&lt;chr&gt;</th><th scope=col>&lt;int&gt;</th><th scope=col>&lt;chr&gt;</th><th scope=col>&lt;chr&gt;</th><th scope=col>⋯</th><th scope=col>&lt;dbl&gt;</th><th scope=col>&lt;dbl&gt;</th><th scope=col>&lt;dbl&gt;</th><th scope=col>&lt;dbl&gt;</th><th scope=col>&lt;dbl&gt;</th><th scope=col>&lt;dbl&gt;</th><th scope=col>&lt;dbl&gt;</th><th scope=col>&lt;chr&gt;</th><th scope=col>&lt;dbl&gt;</th><th scope=col>&lt;dbl&gt;</th></tr>\n",
       "</thead>\n",
       "<tbody>\n",
       "\t<tr><td>219907</td><td>B02</td><td>2021_03_03_Batch12</td><td>6139</td><td>2.5x10^3 cells/well</td><td>1</td><td>WT_parental</td><td>20210205</td><td>219814</td><td>48 hr</td><td>⋯</td><td>-0.15194809</td><td>385.4760</td><td>-0.1553199</td><td>185.3250</td><td>0.003371848</td><td>200.1510</td><td>0.941</td><td>bortezomib</td><td>-0.1548019</td><td>0.1589312</td></tr>\n",
       "\t<tr><td>219907</td><td>B03</td><td>2021_03_03_Batch12</td><td>4567</td><td>2.5x10^3 cells/well</td><td>2</td><td>CloneA     </td><td>20210205</td><td>219814</td><td>48 hr</td><td>⋯</td><td>-0.03125574</td><td>519.6513</td><td>-0.0890067</td><td>350.6349</td><td>0.057750956</td><td>169.0164</td><td>0.584</td><td>bortezomib</td><td>-0.1548019</td><td>0.1589312</td></tr>\n",
       "\t<tr><td>219907</td><td>B04</td><td>2021_03_03_Batch12</td><td>5624</td><td>2.5x10^3 cells/well</td><td>3</td><td>CloneE     </td><td>20210205</td><td>219814</td><td>48 hr</td><td>⋯</td><td> 0.00999497</td><td>471.4668</td><td>-0.1017485</td><td>284.6592</td><td>0.111743482</td><td>186.8076</td><td>0.430</td><td>bortezomib</td><td>-0.1548019</td><td>0.1589312</td></tr>\n",
       "</tbody>\n",
       "</table>\n"
      ],
      "text/latex": [
       "A tibble: 3 × 28\n",
       "\\begin{tabular}{lllllllllllllllllllll}\n",
       " Metadata\\_Plate & Metadata\\_Well & Metadata\\_batch & Metadata\\_cell\\_count & Metadata\\_cell\\_density & Metadata\\_celltype\\_shorthand\\_from\\_plate\\_graph & Metadata\\_clone\\_number & Metadata\\_date & Metadata\\_plate\\_map\\_name & Metadata\\_time\\_to\\_adhere & ⋯ & TotalScore & TotalDispersion & UpScore & UpDispersion & DownScore & DownDispersion & Metadata\\_permuted\\_p\\_value & dataset & min\\_permuted\\_value & max\\_permuted\\_value\\\\\n",
       " <chr> & <chr> & <chr> & <chr> & <chr> & <int> & <chr> & <int> & <chr> & <chr> & ⋯ & <dbl> & <dbl> & <dbl> & <dbl> & <dbl> & <dbl> & <dbl> & <chr> & <dbl> & <dbl>\\\\\n",
       "\\hline\n",
       "\t 219907 & B02 & 2021\\_03\\_03\\_Batch12 & 6139 & 2.5x10\\textasciicircum{}3 cells/well & 1 & WT\\_parental & 20210205 & 219814 & 48 hr & ⋯ & -0.15194809 & 385.4760 & -0.1553199 & 185.3250 & 0.003371848 & 200.1510 & 0.941 & bortezomib & -0.1548019 & 0.1589312\\\\\n",
       "\t 219907 & B03 & 2021\\_03\\_03\\_Batch12 & 4567 & 2.5x10\\textasciicircum{}3 cells/well & 2 & CloneA      & 20210205 & 219814 & 48 hr & ⋯ & -0.03125574 & 519.6513 & -0.0890067 & 350.6349 & 0.057750956 & 169.0164 & 0.584 & bortezomib & -0.1548019 & 0.1589312\\\\\n",
       "\t 219907 & B04 & 2021\\_03\\_03\\_Batch12 & 5624 & 2.5x10\\textasciicircum{}3 cells/well & 3 & CloneE      & 20210205 & 219814 & 48 hr & ⋯ &  0.00999497 & 471.4668 & -0.1017485 & 284.6592 & 0.111743482 & 186.8076 & 0.430 & bortezomib & -0.1548019 & 0.1589312\\\\\n",
       "\\end{tabular}\n"
      ],
      "text/markdown": [
       "\n",
       "A tibble: 3 × 28\n",
       "\n",
       "| Metadata_Plate &lt;chr&gt; | Metadata_Well &lt;chr&gt; | Metadata_batch &lt;chr&gt; | Metadata_cell_count &lt;chr&gt; | Metadata_cell_density &lt;chr&gt; | Metadata_celltype_shorthand_from_plate_graph &lt;int&gt; | Metadata_clone_number &lt;chr&gt; | Metadata_date &lt;int&gt; | Metadata_plate_map_name &lt;chr&gt; | Metadata_time_to_adhere &lt;chr&gt; | ⋯ ⋯ | TotalScore &lt;dbl&gt; | TotalDispersion &lt;dbl&gt; | UpScore &lt;dbl&gt; | UpDispersion &lt;dbl&gt; | DownScore &lt;dbl&gt; | DownDispersion &lt;dbl&gt; | Metadata_permuted_p_value &lt;dbl&gt; | dataset &lt;chr&gt; | min_permuted_value &lt;dbl&gt; | max_permuted_value &lt;dbl&gt; |\n",
       "|---|---|---|---|---|---|---|---|---|---|---|---|---|---|---|---|---|---|---|---|---|\n",
       "| 219907 | B02 | 2021_03_03_Batch12 | 6139 | 2.5x10^3 cells/well | 1 | WT_parental | 20210205 | 219814 | 48 hr | ⋯ | -0.15194809 | 385.4760 | -0.1553199 | 185.3250 | 0.003371848 | 200.1510 | 0.941 | bortezomib | -0.1548019 | 0.1589312 |\n",
       "| 219907 | B03 | 2021_03_03_Batch12 | 4567 | 2.5x10^3 cells/well | 2 | CloneA      | 20210205 | 219814 | 48 hr | ⋯ | -0.03125574 | 519.6513 | -0.0890067 | 350.6349 | 0.057750956 | 169.0164 | 0.584 | bortezomib | -0.1548019 | 0.1589312 |\n",
       "| 219907 | B04 | 2021_03_03_Batch12 | 5624 | 2.5x10^3 cells/well | 3 | CloneE      | 20210205 | 219814 | 48 hr | ⋯ |  0.00999497 | 471.4668 | -0.1017485 | 284.6592 | 0.111743482 | 186.8076 | 0.430 | bortezomib | -0.1548019 | 0.1589312 |\n",
       "\n"
      ],
      "text/plain": [
       "  Metadata_Plate Metadata_Well Metadata_batch     Metadata_cell_count\n",
       "1 219907         B02           2021_03_03_Batch12 6139               \n",
       "2 219907         B03           2021_03_03_Batch12 4567               \n",
       "3 219907         B04           2021_03_03_Batch12 5624               \n",
       "  Metadata_cell_density Metadata_celltype_shorthand_from_plate_graph\n",
       "1 2.5x10^3 cells/well   1                                           \n",
       "2 2.5x10^3 cells/well   2                                           \n",
       "3 2.5x10^3 cells/well   3                                           \n",
       "  Metadata_clone_number Metadata_date Metadata_plate_map_name\n",
       "1 WT_parental           20210205      219814                 \n",
       "2 CloneA                20210205      219814                 \n",
       "3 CloneE                20210205      219814                 \n",
       "  Metadata_time_to_adhere ⋯ TotalScore  TotalDispersion UpScore    UpDispersion\n",
       "1 48 hr                   ⋯ -0.15194809 385.4760        -0.1553199 185.3250    \n",
       "2 48 hr                   ⋯ -0.03125574 519.6513        -0.0890067 350.6349    \n",
       "3 48 hr                   ⋯  0.00999497 471.4668        -0.1017485 284.6592    \n",
       "  DownScore   DownDispersion Metadata_permuted_p_value dataset   \n",
       "1 0.003371848 200.1510       0.941                     bortezomib\n",
       "2 0.057750956 169.0164       0.584                     bortezomib\n",
       "3 0.111743482 186.8076       0.430                     bortezomib\n",
       "  min_permuted_value max_permuted_value\n",
       "1 -0.1548019         0.1589312         \n",
       "2 -0.1548019         0.1589312         \n",
       "3 -0.1548019         0.1589312         "
      ]
     },
     "metadata": {},
     "output_type": "display_data"
    }
   ],
   "source": [
    "# Load signature scores\n",
    "score_dir <- file.path(\"results\", \"singscore\")\n",
    "score_file <- file.path(score_dir, paste0(\"singscore_results\", dataset, \".tsv.gz\"))\n",
    "\n",
    "score_cols <- readr::cols(\n",
    "    .default = readr::col_character(),\n",
    "    Metadata_clone_type_indicator = readr::col_integer(),\n",
    "    Metadata_celltype_shorthand_from_plate_graph = readr::col_integer(),\n",
    "    Metadata_date = readr::col_integer(),\n",
    "    Metadata_treatment_shorthand_from_plate_graph = readr::col_integer(),\n",
    "    TotalScore = readr::col_double(),\n",
    "    TotalDispersion = readr::col_double(),\n",
    "    UpScore = readr::col_double(),\n",
    "    UpDispersion = readr::col_double(),\n",
    "    DownScore = readr::col_double(),\n",
    "    DownDispersion = readr::col_double(),\n",
    "    Metadata_permuted_p_value = readr::col_double(),\n",
    "    min_permuted_value = readr::col_double(),\n",
    "    max_permuted_value = readr::col_double()\n",
    ")\n",
    "\n",
    "score_df <- readr::read_tsv(score_file, col_types = score_cols)\n",
    "\n",
    "print(dim(score_df))\n",
    "head(score_df, 3)"
   ]
  },
  {
   "cell_type": "code",
   "execution_count": 9,
   "metadata": {},
   "outputs": [
    {
     "ename": "ERROR",
     "evalue": "Error in loadNamespace(name): there is no package called ‘circlize’\n",
     "output_type": "error",
     "traceback": [
      "Error in loadNamespace(name): there is no package called ‘circlize’\nTraceback:\n",
      "1. circlize::colorRamp2",
      "2. getExportedValue(pkg, name)",
      "3. asNamespace(ns)",
      "4. getNamespace(ns)",
      "5. tryCatch(loadNamespace(name), error = function(e) stop(e))",
      "6. tryCatchList(expr, classes, parentenv, handlers)",
      "7. tryCatchOne(expr, names, parentenv, handlers[[1L]])",
      "8. value[[3L]](cond)"
     ]
    }
   ],
   "source": [
    "# Set colors\n",
    "legend_scale_cols = circlize::colorRamp2(c(-1, 0, 1), c(\"blue\", \"white\", \"red\"))\n",
    "\n",
    "plate_col = c(\n",
    "    \"219901\" = \"#E1DAAE\",\n",
    "    \"219907\" = \"#FF934F\",\n",
    "    \"219956\" = \"#CC2D35\",\n",
    "    \"219973\" = \"#058ED9\",\n",
    "    \"220039\" = \"#848FA2\",\n",
    "    \"220040\" = \"#2D3142\",\n",
    "    \"220055\" = \"#FFC857\"\n",
    ")\n",
    "clonetype_col = c(\"Clone\" = \"#785EF0\", \"Parental\" = \"#DC267F\")\n",
    "\n",
    "# From colorbrewer2.org\n",
    "spectral_palette <- c(\n",
    "    '#9e0142',\n",
    "    '#d53e4f',\n",
    "    '#f46d43',\n",
    "    '#fdae61',\n",
    "    '#fee08b',\n",
    "    '#ffffbf',\n",
    "    '#e6f598',\n",
    "    '#abdda4',\n",
    "    '#66c2a5',\n",
    "    '#3288bd',\n",
    "    '#5e4fa2'\n",
    ")\n",
    "\n",
    "spectral_limits <- c(-1, 1) * max(abs(score_df$TotalScore))\n",
    "spectral_breaks <- seq(spectral_limits[1] * 100, spectral_limits[2] * 100, length(spectral_palette) + 1) / 100\n",
    "\n",
    "signature_col = circlize::colorRamp2(rev(spectral_breaks), spectral_palette)\n",
    "sensitivity_col = c(\"resistant\" = \"#332a2a\", \"sensitive\" = \"#c3c7c9\")"
   ]
  },
  {
   "cell_type": "code",
   "execution_count": 10,
   "metadata": {},
   "outputs": [
    {
     "ename": "ERROR",
     "evalue": "Error in Heatmap(correlation_matrix_df, name = \"Correlation\", column_dend_side = \"top\", : could not find function \"Heatmap\"\n",
     "output_type": "error",
     "traceback": [
      "Error in Heatmap(correlation_matrix_df, name = \"Correlation\", column_dend_side = \"top\", : could not find function \"Heatmap\"\nTraceback:\n"
     ]
    }
   ],
   "source": [
    "for (feature_select_type in c(\"selected\", \"signature\")) {\n",
    "    \n",
    "    # Determine features that were selected for the dataset\n",
    "    if (feature_select_type == \"signature\") {\n",
    "        # Signature only features\n",
    "        selected_features <- signature_df %>%\n",
    "            dplyr::filter(final_signature) %>%\n",
    "            dplyr::pull(features)\n",
    "    } else {\n",
    "        # Features that survived the standard feature selection steps\n",
    "        selected_features <- features_df %>%\n",
    "            dplyr::filter(dataset == !!dataset) %>%\n",
    "            dplyr::pull(features)\n",
    "    }\n",
    "\n",
    "    # Subset the signature results for later merge\n",
    "    subset_score_df <- score_df %>%\n",
    "        dplyr::filter(dataset == !!dataset) %>%\n",
    "        dplyr::select(Metadata_unique_sample_name, TotalScore)\n",
    "\n",
    "    # Subset the data to only these features\n",
    "    subset_data_df <- dataset_df %>%\n",
    "        dplyr::filter(Metadata_dataset == !!dataset) %>%\n",
    "        dplyr::select(starts_with(\"Metadata_\"), !!!selected_features) %>%\n",
    "        dplyr::filter(Metadata_treatment == \"0.1% DMSO\")  %>%\n",
    "        dplyr::left_join(subset_score_df, by = \"Metadata_unique_sample_name\") %>%\n",
    "        dplyr::mutate(Metadata_parental = \"Clone\")\n",
    "\n",
    "    # Identify parental lines\n",
    "    subset_data_df[grepl(\"parental\", subset_data_df$Metadata_clone_number), \"Metadata_parental\"] = \"Parental\"\n",
    "\n",
    "    # Obtain correlation matrix\n",
    "    correlation_matrix_df <- t(subset_data_df %>% dplyr::select(!!!selected_features)) %>% cor() \n",
    "    \n",
    "    # Generate the heatmap\n",
    "    ht <- Heatmap(\n",
    "        correlation_matrix_df,\n",
    "        name = \"Correlation\",\n",
    "        column_dend_side = \"top\",\n",
    "        # To generate heatmaps sorted by signature score\n",
    "        # row_order = order(subset_data_df$TotalScore),\n",
    "        # column_order = order(subset_data_df$TotalScore),\n",
    "        clustering_method_columns = \"average\",\n",
    "        clustering_method_rows = \"average\",\n",
    "\n",
    "        top_annotation = HeatmapAnnotation(\n",
    "            Sensitivity = subset_data_df$Metadata_clone_type,\n",
    "            BortezomibSig = subset_data_df$TotalScore,\n",
    "            CloneType = subset_data_df$Metadata_parental,\n",
    "            Plate = subset_data_df$Metadata_Plate,\n",
    "            ModelSplit = subset_data_df$Metadata_model_split,\n",
    "            CellCount = anno_barplot(\n",
    "                subset_data_df$Metadata_cell_count,\n",
    "                height = unit(anno_name_height * 1.5, \"cm\")\n",
    "            ),\n",
    "\n",
    "            annotation_legend_param = list(\n",
    "                ModelSplit = list(\n",
    "                    title_gp = gpar(fontsize = lgd_title_fontsize),\n",
    "                    labels_gp = gpar(fontsize = lgd_label_fontsize),\n",
    "                    title = \"Model split\"\n",
    "                ),\n",
    "                Sensitivity = list(\n",
    "                    title_gp = gpar(fontsize = lgd_title_fontsize),\n",
    "                    labels_gp = gpar(fontsize = lgd_label_fontsize)\n",
    "                ),\n",
    "                Plate = list(\n",
    "                    title_gp = gpar(fontsize = lgd_title_fontsize),\n",
    "                    labels_gp = gpar(fontsize = lgd_label_fontsize)\n",
    "                ),\n",
    "                CloneType = list(\n",
    "                    title_gp = gpar(fontsize = lgd_title_fontsize),\n",
    "                    labels_gp = gpar(fontsize = lgd_label_fontsize),\n",
    "                    title = \"Clone type\"\n",
    "                ),\n",
    "                BortezomibSig = list(\n",
    "                    title_gp = gpar(fontsize = lgd_title_fontsize),\n",
    "                    labels_gp = gpar(fontsize = lgd_label_fontsize),\n",
    "                    col_fun = signature_col,\n",
    "                    title = \"Bortezomib\\nsignature\",\n",
    "                    at = c(-0.7, -0.35, 0, 0.35, 0.7)\n",
    "                )\n",
    "            ),\n",
    "\n",
    "            col = list(\n",
    "                ModelSplit = legend_colors,\n",
    "                BortezomibSig = signature_col,\n",
    "                Plate = plate_col,\n",
    "                CloneType = clonetype_col,\n",
    "                Sensitivity = sensitivity_col\n",
    "            ),\n",
    "\n",
    "            simple_anno_size = unit(anno_name_height, \"cm\"),\n",
    "            annotation_name_gp = gpar(fontsize = lgd_label_fontsize)\n",
    "        ),\n",
    "        \n",
    "        heatmap_legend_param = list(\n",
    "            title = \"Pearson\\ncorrelation\",\n",
    "            color_bar = \"continuous\",\n",
    "            col_fun = legend_scale_cols,\n",
    "            title_gp = gpar(fontsize = lgd_title_fontsize),\n",
    "            title_position = \"topleft\",\n",
    "            labels_gp = gpar(fontsize = lgd_label_fontsize),\n",
    "            at = c(-1, 0, 1)\n",
    "        )\n",
    "    )\n",
    "\n",
    "    # Save heatmap to file\n",
    "    fig_file <- file.path(\n",
    "        output_dir, paste0(\"heatmap_\", dataset, \"_features_\",  feature_select_type, \".pdf\")\n",
    "    )\n",
    "    pdf(fig_file)\n",
    "    draw(ht)\n",
    "    dev.off()\n",
    "\n",
    "    draw(ht)\n",
    "}"
   ]
  },
  {
   "cell_type": "code",
   "execution_count": null,
   "metadata": {},
   "outputs": [],
   "source": []
  }
 ],
 "metadata": {
  "kernelspec": {
   "display_name": "R",
   "language": "R",
   "name": "ir"
  },
  "language_info": {
   "codemirror_mode": "r",
   "file_extension": ".r",
   "mimetype": "text/x-r-source",
   "name": "R",
   "pygments_lexer": "r",
   "version": "3.5.1"
  }
 },
 "nbformat": 4,
 "nbformat_minor": 4
}
